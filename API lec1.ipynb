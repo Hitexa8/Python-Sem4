{
 "cells": [
  {
   "cell_type": "code",
   "execution_count": null,
   "metadata": {},
   "outputs": [],
   "source": [
    "import requests,json\n",
    "ap1_key = \" \"\n",
    "a = \"Ahmedabad\"\n",
    "url = f\"http://api.openweathermap.org/geo/1.0/direct?q={a} &appid={ap1_key}\"\n",
    "response = requests.get(url)\n",
    "coordinates = response.json()\n",
    "print(coordinates)\n",
    "latitude = coordinates[0]['lat']\n",
    "longitude = coordinates[0]['lon']\n",
    "print(\"latitude\",latitude)\n",
    "print(\"longitude\",longitude)"
   ]
  },
  {
   "cell_type": "code",
   "execution_count": null,
   "metadata": {},
   "outputs": [],
   "source": []
  }
 ],
 "metadata": {
  "kernelspec": {
   "display_name": "Python 3",
   "language": "python",
   "name": "python3"
  },
  "language_info": {
   "codemirror_mode": {
    "name": "ipython",
    "version": 3
   },
   "file_extension": ".py",
   "mimetype": "text/x-python",
   "name": "python",
   "nbconvert_exporter": "python",
   "pygments_lexer": "ipython3",
   "version": "3.8.5"
  }
 },
 "nbformat": 4,
 "nbformat_minor": 4
}
