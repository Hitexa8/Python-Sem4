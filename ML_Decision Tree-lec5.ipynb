{
 "cells": [
  {
   "cell_type": "code",
   "execution_count": null,
   "metadata": {},
   "outputs": [],
   "source": [
    "import pandas as pd\n",
    "from sklearn.model_selection import train_test_split\n",
    "from sklearn import tree\n",
    "from sklearn.tree import DecisionTreeClassifier\n",
    "from sklearn.metrics import confusion_matrix,accuracy_score,precision_score,f1_score\n",
    "from sklearn.neighbors import KNeighborsClassifier"
   ]
  },
  {
   "cell_type": "code",
   "execution_count": null,
   "metadata": {},
   "outputs": [],
   "source": [
    "df = pd.read_csv(\"Downloads/diabetes.csv\")\n",
    "\n",
    "df.isna().sum()\n",
    "\n",
    "x = df.drop('Outcome',axis=1)\n",
    "y = df['Outcome']\n",
    "\n",
    "x_train,x_test,y_train,y_test = train_test_split(x,y,test_size=0.3,random_state=7)\n",
    "\n",
    "dtree = DecisionTreeClassifier(criterion='entropy',max_depth=26)\n",
    "\n",
    "model = dtree.fit(x_train,y_train)\n",
    "\n",
    "print(dtree.get_depth())\n",
    "\n",
    "text = tree.export_text(dtree)\n",
    "print(text)\n",
    "\n",
    "y_pred = dtree.predict(x_test)\n",
    "\n",
    "cm = confusion_matrix(y_test,y_pred)\n",
    "\n",
    "print(cm)\n",
    "\n",
    "print(accuracy_score(y_test,y_pred))\n",
    "\n",
    "print(precision_score(y_test,y_pred))\n",
    "\n",
    "print(f1_score(y_test,y_pred))"
   ]
  },
  {
   "cell_type": "code",
   "execution_count": null,
   "metadata": {},
   "outputs": [],
   "source": [
    "df = pd.read_csv(\"Downloads/Iris.csv\")\n",
    "df.isna().sum()\n",
    "\n",
    "x = df.drop('Species',axis=1)\n",
    "y = df['Species']\n",
    "\n",
    "x_train,x_test,y_train,y_test = train_test_split(x,y,test_size=0.3,random_state=7)\n",
    "\n",
    "dtree = DecisionTreeClassifier(criterion='entropy',max_depth=26)\n",
    "\n",
    "model = dtree.fit(x_train,y_train)\n",
    "\n",
    "print(dtree.get_depth())\n",
    "\n",
    "text = tree.export_text(dtree)\n",
    "print(text)\n",
    "\n",
    "y_pred = dtree.predict(x_test)\n",
    "\n",
    "cm = confusion_matrix(y_test,y_pred)\n",
    "print(cm)\n",
    "\n",
    "print(accuracy_score(y_test,y_pred))\n",
    "\n",
    "print(precision_score(y_test,y_pred,average='micro'))\n",
    "\n",
    "print(f1_score(y_test,y_pred,average='macro'))"
   ]
  },
  {
   "cell_type": "code",
   "execution_count": null,
   "metadata": {},
   "outputs": [],
   "source": [
    "df = pd.read_csv(\"Downloads/AQI and Lat Long of Countries.csv\")\n",
    "\n",
    "x = df[['lat','lng']]\n",
    "y = df['AQI Value']\n",
    "\n",
    "x_train,x_test,y_train,y_test = train_test_split(x,y,test_size=0.2,random_state=4)\n",
    "\n",
    "dtree = DecisionTreeClassifier(criterion='entropy',max_depth=26)\n",
    "\n",
    "model = dtree.fit(x_train,y_train)\n",
    "\n",
    "print(dtree.get_depth())\n",
    "\n",
    "y_pred = dtree.predict(x_test)\n",
    "\n",
    "print(accuracy_score(y_test,y_pred))\n",
    "\n",
    "print(precision_score(y_test,y_pred,average='micro'))\n",
    "\n",
    "print(f1_score(y_test,y_pred,average='macro'))\n"
   ]
  },
  {
   "cell_type": "code",
   "execution_count": null,
   "metadata": {},
   "outputs": [],
   "source": [
    "df1 = pd.read_csv(\"Downloads/AQI and Lat Long of Countries.csv\")\n",
    "\n",
    "x = df1[['lat','lng']]\n",
    "y = df1['AQI Value']\n",
    "\n",
    "x_train,x_test,y_train,y_test = train_test_split(x,y,test_size=0.2,random_state=4)\n",
    "\n",
    "knn = KNeighborsClassifier(n_neighbors=27)\n",
    "model = knn.fit(x_train,y_train)\n",
    "y_pred = model.predict(x_test)\n",
    "\n",
    "print(accuracy_score(y_test,y_pred))\n",
    "\n",
    "print(precision_score(y_test,y_pred,average='micro'))\n",
    "\n",
    "print(f1_score(y_test,y_pred,average='macro'))\n"
   ]
  },
  {
   "cell_type": "code",
   "execution_count": null,
   "metadata": {},
   "outputs": [],
   "source": []
  }
 ],
 "metadata": {
  "kernelspec": {
   "display_name": "Python 3",
   "language": "python",
   "name": "python3"
  },
  "language_info": {
   "codemirror_mode": {
    "name": "ipython",
    "version": 3
   },
   "file_extension": ".py",
   "mimetype": "text/x-python",
   "name": "python",
   "nbconvert_exporter": "python",
   "pygments_lexer": "ipython3",
   "version": "3.8.5"
  }
 },
 "nbformat": 4,
 "nbformat_minor": 4
}
df = pd.read_csv("Downloads/DecisionTreeDataset.csv")

x = df.drop('Job Offered',axis=1)
y = df['Job Offered']

x = pd.get_dummies(x)
print(x)

x_train,x_test,y_train,y_test = train_test_split(x,y,test_size=0.2,random_state=4)

dtree = DecisionTreeClassifier(criterion='entropy',max_depth=3)

model = dtree.fit(x_train,y_train)

y_pred = dtree.predict(x_test)

plt.figure(figsize=(20,10))
tree.plot_tree(dtree,feature_names=['CGPA_High','CGPA_Low','CGPA_Medium','Communication_Bad','Communication_Good',' Apptitude_High','Apptitude_Low','Programming Skill_Bad','Programming Skill_Good'],class_names=['Job Offered'],filled=True)
plt.show()


print(accuracy_score(y_test,y_pred))

