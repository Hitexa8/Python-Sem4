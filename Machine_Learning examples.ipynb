{
 "cells": [
  {
   "cell_type": "code",
   "execution_count": 1,
   "metadata": {},
   "outputs": [],
   "source": [
    "import pandas as pd\n",
    "from sklearn.model_selection import train_test_split\n",
    "from sklearn.linear_model import LinearRegression\n",
    "from sklearn import metrics\n",
    "import numpy as np"
   ]
  },
  {
   "cell_type": "code",
   "execution_count": 2,
   "metadata": {},
   "outputs": [],
   "source": [
    "df = pd.read_csv(\"Downloads/CarPrice_Assignment.csv\")"
   ]
  },
  {
   "cell_type": "code",
   "execution_count": 3,
   "metadata": {},
   "outputs": [
    {
     "data": {
      "text/plain": [
       "car_ID              0\n",
       "symboling           0\n",
       "CarName             0\n",
       "fueltype            0\n",
       "aspiration          0\n",
       "doornumber          0\n",
       "carbody             0\n",
       "drivewheel          0\n",
       "enginelocation      0\n",
       "wheelbase           0\n",
       "carlength           0\n",
       "carwidth            0\n",
       "carheight           0\n",
       "curbweight          0\n",
       "enginetype          0\n",
       "cylindernumber      0\n",
       "enginesize          0\n",
       "fuelsystem          0\n",
       "boreratio           0\n",
       "stroke              0\n",
       "compressionratio    0\n",
       "horsepower          0\n",
       "peakrpm             0\n",
       "citympg             0\n",
       "highwaympg          0\n",
       "price               0\n",
       "dtype: int64"
      ]
     },
     "execution_count": 3,
     "metadata": {},
     "output_type": "execute_result"
    }
   ],
   "source": [
    "df.isna().sum()"
   ]
  },
  {
   "cell_type": "code",
   "execution_count": 4,
   "metadata": {},
   "outputs": [],
   "source": [
    "scale_cols = ['wheelbase','carlength','carwidth','carheight','curbweight','enginesize','boreratio','stroke','compressionratio','horsepower','peakrpm','citympg','highwaympg','price']\n",
    "for col in scale_cols:\n",
    "    df[col]=np.log(df[col])"
   ]
  },
  {
   "cell_type": "code",
   "execution_count": 5,
   "metadata": {},
   "outputs": [
    {
     "name": "stdout",
     "output_type": "stream",
     "text": [
      "['alfa-romero', 'alfa-romero', 'alfa-romero', 'audi', 'audi', 'audi', 'audi', 'audi', 'audi', 'audi', 'bmw', 'bmw', 'bmw', 'bmw', 'bmw', 'bmw', 'bmw', 'bmw', 'chevrolet', 'chevrolet', 'chevrolet', 'dodge', 'dodge', 'dodge', 'dodge', 'dodge', 'dodge', 'dodge', 'dodge', 'dodge', 'honda', 'honda', 'honda', 'honda', 'honda', 'honda', 'honda', 'honda', 'honda', 'honda', 'honda', 'honda', 'honda', 'isuzu', 'isuzu', 'isuzu', 'isuzu', 'jaguar', 'jaguar', 'jaguar', 'maxda', 'maxda', 'mazda', 'mazda', 'mazda', 'mazda', 'mazda', 'mazda', 'mazda', 'mazda', 'mazda', 'mazda', 'mazda', 'mazda', 'mazda', 'mazda', 'mazda', 'buick', 'buick', 'buick', 'buick', 'buick', 'buick', 'buick', 'buick', 'mercury', 'mitsubishi', 'mitsubishi', 'mitsubishi', 'mitsubishi', 'mitsubishi', 'mitsubishi', 'mitsubishi', 'mitsubishi', 'mitsubishi', 'mitsubishi', 'mitsubishi', 'mitsubishi', 'mitsubishi', 'Nissan', 'nissan', 'nissan', 'nissan', 'nissan', 'nissan', 'nissan', 'nissan', 'nissan', 'nissan', 'nissan', 'nissan', 'nissan', 'nissan', 'nissan', 'nissan', 'nissan', 'nissan', 'peugeot', 'peugeot', 'peugeot', 'peugeot', 'peugeot', 'peugeot', 'peugeot', 'peugeot', 'peugeot', 'peugeot', 'peugeot', 'plymouth', 'plymouth', 'plymouth', 'plymouth', 'plymouth', 'plymouth', 'plymouth', 'porsche', 'porcshce', 'porsche', 'porsche', 'porsche', 'renault', 'renault', 'saab', 'saab', 'saab', 'saab', 'saab', 'saab', 'subaru', 'subaru', 'subaru', 'subaru', 'subaru', 'subaru', 'subaru', 'subaru', 'subaru', 'subaru', 'subaru', 'subaru', 'toyota', 'toyota', 'toyota', 'toyota', 'toyota', 'toyota', 'toyota', 'toyota', 'toyota', 'toyota', 'toyota', 'toyota', 'toyota', 'toyota', 'toyota', 'toyota', 'toyota', 'toyota', 'toyota', 'toyota', 'toyota', 'toyota', 'toyota', 'toyota', 'toyota', 'toyota', 'toyota', 'toyota', 'toyota', 'toyota', 'toyota', 'toyouta', 'vokswagen', 'volkswagen', 'volkswagen', 'volkswagen', 'volkswagen', 'volkswagen', 'volkswagen', 'vw', 'vw', 'volkswagen', 'volkswagen', 'volkswagen', 'volvo', 'volvo', 'volvo', 'volvo', 'volvo', 'volvo', 'volvo', 'volvo', 'volvo', 'volvo', 'volvo']\n"
     ]
    }
   ],
   "source": [
    "l=[]\n",
    "for i in df['CarName']:\n",
    "    l.append(i.split(\" \" )[0])\n",
    "print(l)"
   ]
  },
  {
   "cell_type": "code",
   "execution_count": 6,
   "metadata": {
    "scrolled": true
   },
   "outputs": [
    {
     "data": {
      "text/plain": [
       "0      alfa-romero\n",
       "1      alfa-romero\n",
       "2      alfa-romero\n",
       "3             audi\n",
       "4             audi\n",
       "          ...     \n",
       "200          volvo\n",
       "201          volvo\n",
       "202          volvo\n",
       "203          volvo\n",
       "204          volvo\n",
       "Length: 205, dtype: object"
      ]
     },
     "execution_count": 6,
     "metadata": {},
     "output_type": "execute_result"
    }
   ],
   "source": [
    "s = pd.Series(l)\n",
    "s"
   ]
  },
  {
   "cell_type": "code",
   "execution_count": 7,
   "metadata": {},
   "outputs": [],
   "source": [
    "df['CompanyName'] = s"
   ]
  },
  {
   "cell_type": "code",
   "execution_count": 8,
   "metadata": {},
   "outputs": [],
   "source": [
    "df.replace(\"Nissan\",'nissan',inplace = True)"
   ]
  },
  {
   "cell_type": "code",
   "execution_count": 9,
   "metadata": {},
   "outputs": [],
   "source": [
    "df.replace(\"vokswagen\",'volkswagen',inplace = True)"
   ]
  },
  {
   "cell_type": "code",
   "execution_count": 10,
   "metadata": {},
   "outputs": [],
   "source": [
    "df.replace(\"porcshce\",'porsche',inplace = True)"
   ]
  },
  {
   "cell_type": "code",
   "execution_count": 11,
   "metadata": {},
   "outputs": [],
   "source": [
    "df.replace(\"toyouta\",'toyota',inplace = True)"
   ]
  },
  {
   "cell_type": "code",
   "execution_count": 12,
   "metadata": {},
   "outputs": [],
   "source": [
    "df.replace(\"vw\",'volkswagen',inplace = True)"
   ]
  },
  {
   "cell_type": "code",
   "execution_count": 13,
   "metadata": {},
   "outputs": [],
   "source": [
    "x = df.drop(['price','CarName','car_ID'],axis=1)\n",
    "y = df['price']"
   ]
  },
  {
   "cell_type": "code",
   "execution_count": 17,
   "metadata": {},
   "outputs": [],
   "source": [
    "x = pd.get_dummies(x)"
   ]
  },
  {
   "cell_type": "code",
   "execution_count": 18,
   "metadata": {},
   "outputs": [],
   "source": [
    "x_train,x_test,y_train,y_test = train_test_split(x,y,test_size=0.2,random_state=3)"
   ]
  },
  {
   "cell_type": "code",
   "execution_count": 19,
   "metadata": {},
   "outputs": [
    {
     "name": "stdout",
     "output_type": "stream",
     "text": [
      "        Actual  Predicted\n",
      "189   9.358329   9.243449\n",
      "183   8.984067   9.056250\n",
      "118   8.625509   8.683886\n",
      "165   9.137555   9.105877\n",
      "160   8.953899   8.910304\n",
      "70   10.360912  10.375018\n",
      "173   9.099185   9.180656\n",
      "154   8.974365   8.702641\n",
      "25    8.808668   8.845473\n",
      "71   10.439513  10.802041\n",
      "77    8.730529   8.699989\n",
      "146   8.917713   9.081681\n",
      "121   8.808668   8.686287\n",
      "102   9.574914   9.694089\n",
      "47   10.381273  10.478695\n",
      "188   9.209840   9.145375\n",
      "156   8.844769   8.881557\n",
      "38    9.115480   9.062198\n",
      "162   9.133243   8.928700\n",
      "141   8.871505   8.998670\n",
      "202   9.975110   9.717789\n",
      "103   9.510371   9.594452\n",
      "34    8.871926   8.920452\n",
      "3     9.543235   9.304784\n",
      "61    9.268137   9.232649\n",
      "115   9.718964   9.509779\n",
      "14   10.109078  10.113109\n",
      "46    9.310005   9.445107\n",
      "12    9.950848   9.954871\n",
      "101   9.510371   9.636143\n",
      "51    8.715224   8.583341\n",
      "6     9.781885   9.805634\n",
      "125   9.999616   9.679617\n",
      "73   10.620351  10.900780\n",
      "58    9.657907   9.551919\n",
      "182   8.958669   9.031126\n",
      "40    9.239414   8.947929\n",
      "72   10.464702  10.856534\n",
      "4     9.767095   9.593980\n",
      "130   9.137232   9.173340\n",
      "122   8.937087   8.873940\n",
      "MSE 0.026143209288042375\n",
      "R2Score 0.9132634559857695\n"
     ]
    }
   ],
   "source": [
    "lr=LinearRegression()\n",
    "lr.fit(x_train,y_train)\n",
    "y_pred = lr.predict(x_test)\n",
    "diff=pd.DataFrame({\"Actual\":y_test,\"Predicted\":y_pred})\n",
    "print(diff.to_string())\n",
    "\n",
    "print(\"MSE\",metrics.mean_squared_error(y_test,y_pred))\n",
    "print('R2Score',metrics.r2_score(y_test,y_pred))\n"
   ]
  },
  {
   "cell_type": "code",
   "execution_count": null,
   "metadata": {},
   "outputs": [],
   "source": []
  }
 ],
 "metadata": {
  "kernelspec": {
   "display_name": "Python 3",
   "language": "python",
   "name": "python3"
  },
  "language_info": {
   "codemirror_mode": {
    "name": "ipython",
    "version": 3
   },
   "file_extension": ".py",
   "mimetype": "text/x-python",
   "name": "python",
   "nbconvert_exporter": "python",
   "pygments_lexer": "ipython3",
   "version": "3.8.5"
  }
 },
 "nbformat": 4,
 "nbformat_minor": 4
}
