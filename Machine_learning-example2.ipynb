{
 "cells": [
  {
   "cell_type": "code",
   "execution_count": 19,
   "metadata": {},
   "outputs": [],
   "source": [
    "import pandas as pd\n",
    "from sklearn.model_selection import train_test_split\n",
    "from sklearn import metrics\n"
   ]
  },
  {
   "cell_type": "code",
   "execution_count": 81,
   "metadata": {},
   "outputs": [
    {
     "name": "stdout",
     "output_type": "stream",
     "text": [
      "           Weight   Length1   Length2   Length3    Height     Width\n",
      "Weight   1.000000  0.915712  0.918618  0.923044  0.724345  0.886507\n",
      "Length1  0.915712  1.000000  0.999517  0.992031  0.625378  0.867050\n",
      "Length2  0.918618  0.999517  1.000000  0.994103  0.640441  0.873547\n",
      "Length3  0.923044  0.992031  0.994103  1.000000  0.703409  0.878520\n",
      "Height   0.724345  0.625378  0.640441  0.703409  1.000000  0.792881\n",
      "Width    0.886507  0.867050  0.873547  0.878520  0.792881  1.000000\n",
      "R2Score 0.8645942708451835\n",
      "R2Score 0.8976271578619849\n",
      "R2Score 0.7478921607051521\n",
      "R2Score 0.8290471836754666\n",
      "R2Score 0.8296063555245489\n",
      "R2Score 0.8977806075669975\n",
      "R2Score 0.8369905981369883\n",
      "R2Score 0.7744993462801679\n",
      "R2Score 0.9054157770018615\n",
      "R2Score 0.8283665039449097\n",
      "R2Score 0.6114394857577926\n",
      "R2Score 0.7468191082981528\n",
      "R2Score 0.9042191211791568\n",
      "R2Score 0.8646628353908739\n",
      "R2Score 0.891463162954135\n",
      "R2Score 0.8859126831394076\n",
      "R2Score 0.8502106085333282\n",
      "R2Score 0.9207298326952611\n",
      "R2Score 0.863130978773343\n",
      "R2Score 0.7857236746299661\n",
      "R2Score 0.8650583145533854\n",
      "R2Score 0.7365430997463002\n",
      "R2Score 0.8665179722519383\n",
      "R2Score 0.8880352122108179\n",
      "R2Score 0.8375273744213235\n",
      "R2Score 0.8990003898839654\n",
      "R2Score 0.8276160055358001\n",
      "R2Score 0.7680213482799838\n",
      "R2Score 0.8238451684675121\n",
      "R2Score 0.8070316957084418\n",
      "R2Score 0.8709862934135799\n",
      "R2Score 0.8423739051926488\n",
      "R2Score 0.8369988581547092\n",
      "R2Score 0.7308750967293236\n",
      "R2Score 0.7687889078764716\n",
      "R2Score 0.8915724374573823\n",
      "R2Score 0.8461743096476037\n",
      "R2Score 0.7782175475869353\n",
      "R2Score 0.9025356067712147\n",
      "R2Score 0.7875597352349321\n",
      "R2Score 0.8688213905029951\n",
      "R2Score 0.7831282959355439\n",
      "R2Score 0.8464891636131896\n"
     ]
    }
   ],
   "source": [
    "# LINEAR REGRESSION\n",
    "from sklearn.linear_model import LinearRegression\n",
    "df = pd.read_csv(\"Downloads/Fish.csv\")\n",
    "\n",
    "print(df.corr())\n",
    "\n",
    "x = df[['Length3']]\n",
    "y = df['Weight']\n",
    "\n",
    "for i in range(0,43):\n",
    "    x_train,x_test,y_train,y_test = train_test_split(x,y,test_size=0.2,random_state=i)\n",
    "    lr = LinearRegression()\n",
    "    lr.fit(x_train,y_train)\n",
    "    y_pred = lr.predict(x_test)\n",
    "    print('R2Score',metrics.r2_score(y_test,y_pred))"
   ]
  },
  {
   "cell_type": "code",
   "execution_count": 48,
   "metadata": {},
   "outputs": [],
   "source": [
    "# MULTIPLE LINEAR REGRESSION\n",
    "df = pd.read_csv(\"Downloads/Fish.csv\")\n",
    "x = df.drop(['Species','Weight'],axis=1)\n",
    "y = df['Weight']\n",
    "\n",
    "x_train,x_test,y_train,y_test = train_test_split(x,y,test_size=0.2,random_state=4)\n",
    "\n",
    "from sklearn.linear_model import LinearRegression\n",
    "lr = LinearRegression()\n",
    "lr.fit(x_train,y_train)\n",
    "y_pred = lr.predict(x_test)\n",
    "diff=pd.DataFrame({\"Actual\":y_test,\"Predicted\":y_pred})\n",
    "print(diff.to_string())\n",
    "\n",
    "print('R2Score',metrics.r2_score(y_test,y_pred))\n",
    "print(\"MAE\",metrics.mean_absolute_error(y_test,y_pred))\n",
    "print(\"MSE\",metrics.mean_squared_error(y_test,y_pred))\n"
   ]
  },
  {
   "cell_type": "code",
   "execution_count": 78,
   "metadata": {},
   "outputs": [
    {
     "name": "stdout",
     "output_type": "stream",
     "text": [
      "R2Score 0.9592609179705529\n",
      "MAE 52.176757478713995\n",
      "MSE 5563.548294588392\n"
     ]
    }
   ],
   "source": [
    "from sklearn.preprocessing import PolynomialFeatures\n",
    "\n",
    "# POLYNOMIAL LINEAR REGRESSION\n",
    "df = pd.read_csv('Downloads/Fish.csv')\n",
    "\n",
    "x = df.drop(['Species','Weight'],axis=1)\n",
    "y = df['Weight']\n",
    "\n",
    "x_train,x_test,y_train,y_test = train_test_split(x,y,test_size=0.2,random_state=5)\n",
    "\n",
    "poly = PolynomialFeatures(degree=3)\n",
    "x_poly_train = poly.fit_transform(x_train)\n",
    "x_poly_test = poly.transform(x_test)\n",
    "\n",
    "lr = LinearRegression()\n",
    "lr.fit(x_poly_train, y_train)\n",
    "y_pred = lr.predict(x_poly_test)\n",
    "\n",
    "print('R2Score',metrics.r2_score(y_test,y_pred))\n",
    "print(\"MAE\",metrics.mean_absolute_error(y_test,y_pred))\n",
    "print(\"MSE\",metrics.mean_squared_error(y_test,y_pred))"
   ]
  },
  {
   "cell_type": "code",
   "execution_count": 86,
   "metadata": {},
   "outputs": [
    {
     "ename": "ValueError",
     "evalue": "Expected n_neighbors > 0. Got 0",
     "output_type": "error",
     "traceback": [
      "\u001b[1;31m---------------------------------------------------------------------------\u001b[0m",
      "\u001b[1;31mValueError\u001b[0m                                Traceback (most recent call last)",
      "\u001b[1;32m<ipython-input-86-ebdeebe46a23>\u001b[0m in \u001b[0;36m<module>\u001b[1;34m\u001b[0m\n\u001b[0;32m     17\u001b[0m     \u001b[0mk_position\u001b[0m \u001b[1;33m=\u001b[0m \u001b[0mnormal_accuracy\u001b[0m\u001b[1;33m[\u001b[0m\u001b[0mbest_accur\u001b[0m\u001b[1;33m]\u001b[0m\u001b[1;33m\u001b[0m\u001b[1;33m\u001b[0m\u001b[0m\n\u001b[0;32m     18\u001b[0m     \u001b[0mknn\u001b[0m \u001b[1;33m=\u001b[0m \u001b[0mKNeighborsClassifier\u001b[0m\u001b[1;33m(\u001b[0m\u001b[0mn_neighbors\u001b[0m\u001b[1;33m=\u001b[0m\u001b[0mk_position\u001b[0m\u001b[1;33m)\u001b[0m\u001b[1;33m\u001b[0m\u001b[1;33m\u001b[0m\u001b[0m\n\u001b[1;32m---> 19\u001b[1;33m     \u001b[0mmodel\u001b[0m \u001b[1;33m=\u001b[0m \u001b[0mknn\u001b[0m\u001b[1;33m.\u001b[0m\u001b[0mfit\u001b[0m\u001b[1;33m(\u001b[0m\u001b[0mx_train\u001b[0m\u001b[1;33m,\u001b[0m\u001b[0my_train\u001b[0m\u001b[1;33m)\u001b[0m\u001b[1;33m\u001b[0m\u001b[1;33m\u001b[0m\u001b[0m\n\u001b[0m\u001b[0;32m     20\u001b[0m     \u001b[0my_pred\u001b[0m \u001b[1;33m=\u001b[0m \u001b[0mmodel\u001b[0m\u001b[1;33m.\u001b[0m\u001b[0mpredict\u001b[0m\u001b[1;33m(\u001b[0m\u001b[0mx_test\u001b[0m\u001b[1;33m)\u001b[0m\u001b[1;33m\u001b[0m\u001b[1;33m\u001b[0m\u001b[0m\n\u001b[0;32m     21\u001b[0m     \u001b[0mcm\u001b[0m \u001b[1;33m=\u001b[0m \u001b[0mconfusion_matrix\u001b[0m\u001b[1;33m(\u001b[0m\u001b[0my_test\u001b[0m\u001b[1;33m,\u001b[0m\u001b[0my_pred\u001b[0m\u001b[1;33m)\u001b[0m\u001b[1;33m\u001b[0m\u001b[1;33m\u001b[0m\u001b[0m\n",
      "\u001b[1;32mC:\\ProgramData\\Anaconda3\\lib\\site-packages\\sklearn\\neighbors\\_base.py\u001b[0m in \u001b[0;36mfit\u001b[1;34m(self, X, y)\u001b[0m\n\u001b[0;32m   1155\u001b[0m             \u001b[0mself\u001b[0m\u001b[1;33m.\u001b[0m\u001b[0m_y\u001b[0m \u001b[1;33m=\u001b[0m \u001b[0mself\u001b[0m\u001b[1;33m.\u001b[0m\u001b[0m_y\u001b[0m\u001b[1;33m.\u001b[0m\u001b[0mravel\u001b[0m\u001b[1;33m(\u001b[0m\u001b[1;33m)\u001b[0m\u001b[1;33m\u001b[0m\u001b[1;33m\u001b[0m\u001b[0m\n\u001b[0;32m   1156\u001b[0m \u001b[1;33m\u001b[0m\u001b[0m\n\u001b[1;32m-> 1157\u001b[1;33m         \u001b[1;32mreturn\u001b[0m \u001b[0mself\u001b[0m\u001b[1;33m.\u001b[0m\u001b[0m_fit\u001b[0m\u001b[1;33m(\u001b[0m\u001b[0mX\u001b[0m\u001b[1;33m)\u001b[0m\u001b[1;33m\u001b[0m\u001b[1;33m\u001b[0m\u001b[0m\n\u001b[0m\u001b[0;32m   1158\u001b[0m \u001b[1;33m\u001b[0m\u001b[0m\n\u001b[0;32m   1159\u001b[0m     \u001b[1;32mdef\u001b[0m \u001b[0m_more_tags\u001b[0m\u001b[1;33m(\u001b[0m\u001b[0mself\u001b[0m\u001b[1;33m)\u001b[0m\u001b[1;33m:\u001b[0m\u001b[1;33m\u001b[0m\u001b[1;33m\u001b[0m\u001b[0m\n",
      "\u001b[1;32mC:\\ProgramData\\Anaconda3\\lib\\site-packages\\sklearn\\neighbors\\_base.py\u001b[0m in \u001b[0;36m_fit\u001b[1;34m(self, X)\u001b[0m\n\u001b[0;32m    465\u001b[0m         \u001b[1;32mif\u001b[0m \u001b[0mself\u001b[0m\u001b[1;33m.\u001b[0m\u001b[0mn_neighbors\u001b[0m \u001b[1;32mis\u001b[0m \u001b[1;32mnot\u001b[0m \u001b[1;32mNone\u001b[0m\u001b[1;33m:\u001b[0m\u001b[1;33m\u001b[0m\u001b[1;33m\u001b[0m\u001b[0m\n\u001b[0;32m    466\u001b[0m             \u001b[1;32mif\u001b[0m \u001b[0mself\u001b[0m\u001b[1;33m.\u001b[0m\u001b[0mn_neighbors\u001b[0m \u001b[1;33m<=\u001b[0m \u001b[1;36m0\u001b[0m\u001b[1;33m:\u001b[0m\u001b[1;33m\u001b[0m\u001b[1;33m\u001b[0m\u001b[0m\n\u001b[1;32m--> 467\u001b[1;33m                 raise ValueError(\n\u001b[0m\u001b[0;32m    468\u001b[0m                     \u001b[1;34m\"Expected n_neighbors > 0. Got %d\"\u001b[0m \u001b[1;33m%\u001b[0m\u001b[1;33m\u001b[0m\u001b[1;33m\u001b[0m\u001b[0m\n\u001b[0;32m    469\u001b[0m                     \u001b[0mself\u001b[0m\u001b[1;33m.\u001b[0m\u001b[0mn_neighbors\u001b[0m\u001b[1;33m\u001b[0m\u001b[1;33m\u001b[0m\u001b[0m\n",
      "\u001b[1;31mValueError\u001b[0m: Expected n_neighbors > 0. Got 0"
     ]
    }
   ],
   "source": [
    "from sklearn.neighbors import KNeighborsClassifier\n",
    "from sklearn.metrics import confusion_matrix\n",
    "df = pd.read_csv('Downloads/Fish.csv')\n",
    "\n",
    "x = df.drop('Species',axis=1)\n",
    "y = df['Species']\n",
    "\n",
    "x_train,x_test,y_train,y_test = train_test_split(x,y,test_size=0.2,random_state=2)\n",
    "normal_accuracy = []\n",
    "for i in range(1,20):\n",
    "    knn = KNeighborsClassifier(n_neighbors=i)\n",
    "    model = knn.fit(x_train,y_train)\n",
    "    y_pred = model.predict(x_test)\n",
    "    accur = metrics.accuracy_score(y_test,y_pred)\n",
    "    normal_accuracy.append(int(accur))\n",
    "    best_accur = max(normal_accuracy)\n",
    "    k_position = normal_accuracy[best_accur]\n",
    "    knn = KNeighborsClassifier(n_neighbors=k_position)\n",
    "    model = knn.fit(x_train,y_train)\n",
    "    y_pred = model.predict(x_test)\n",
    "    cm = confusion_matrix(y_test,y_pred)\n",
    "    print(cm)"
   ]
  },
  {
   "cell_type": "code",
   "execution_count": null,
   "metadata": {},
   "outputs": [],
   "source": []
  }
 ],
 "metadata": {
  "kernelspec": {
   "display_name": "Python 3",
   "language": "python",
   "name": "python3"
  },
  "language_info": {
   "codemirror_mode": {
    "name": "ipython",
    "version": 3
   },
   "file_extension": ".py",
   "mimetype": "text/x-python",
   "name": "python",
   "nbconvert_exporter": "python",
   "pygments_lexer": "ipython3",
   "version": "3.8.5"
  }
 },
 "nbformat": 4,
 "nbformat_minor": 4
}
