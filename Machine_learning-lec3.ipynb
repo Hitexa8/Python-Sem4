{
 "cells": [
  {
   "cell_type": "code",
   "execution_count": null,
   "metadata": {},
   "outputs": [],
   "source": [
    "import pandas as pd\n",
    "\n",
    "from sklearn.model_selection import train_test_split\n",
    "\n",
    "from sklearn.neighbors import KNeighborsClassifier\n",
    "\n",
    "from sklearn.metrics import confusion_matrix"
   ]
  },
  {
   "cell_type": "markdown",
   "metadata": {},
   "source": [
    "# Diabetes Dataset"
   ]
  },
  {
   "cell_type": "code",
   "execution_count": null,
   "metadata": {},
   "outputs": [],
   "source": [
    "df = pd.read_csv(\"Downloads/diabetes.csv\")\n",
    "\n",
    "x = df.drop('Outcome',axis=1)\n",
    "y=df['Outcome']\n",
    "\n",
    "x_train,x_test,y_train,y_test = train_test_split(x,y,test_size=0.2,random_state=4)\n",
    "\n",
    "knn = KNeighborsClassifier(n_neighbors=27)\n",
    "model = knn.fit(x_train,y_train)\n",
    "y_pred = model.predict(x_test)\n",
    "diff=pd.DataFrame({\"Actual\":y_test,\"Predicted\":y_pred})\n",
    "print(diff.to_string())\n",
    "\n",
    "cm = confusion_matrix(y_test,y_pred)\n",
    "print(cm)"
   ]
  },
  {
   "cell_type": "markdown",
   "metadata": {},
   "source": [
    "# Iris Dataset"
   ]
  },
  {
   "cell_type": "code",
   "execution_count": null,
   "metadata": {},
   "outputs": [],
   "source": [
    "df1 = pd.read_csv(\"Downloads/Iris.csv\")\n",
    "\n",
    "x = df1.drop('Species',axis=1)\n",
    "y=df1['Species']\n",
    "\n",
    "x_train,x_test,y_train,y_test = train_test_split(x,y,test_size=0.2,random_state=4)\n",
    "\n",
    "knn = KNeighborsClassifier(n_neighbors=27)\n",
    "model = knn.fit(x_train,y_train)\n",
    "y_pred = model.predict(x_test)\n",
    "diff=pd.DataFrame({\"Actual\":y_test,\"Predicted\":y_pred})\n",
    "print(diff.to_string())\n",
    "\n",
    "cm = confusion_matrix(y_test,y_pred)\n",
    "print(cm)"
   ]
  }
 ],
 "metadata": {
  "kernelspec": {
   "display_name": "Python 3",
   "language": "python",
   "name": "python3"
  },
  "language_info": {
   "codemirror_mode": {
    "name": "ipython",
    "version": 3
   },
   "file_extension": ".py",
   "mimetype": "text/x-python",
   "name": "python",
   "nbconvert_exporter": "python",
   "pygments_lexer": "ipython3",
   "version": "3.8.5"
  }
 },
 "nbformat": 4,
 "nbformat_minor": 4
}
