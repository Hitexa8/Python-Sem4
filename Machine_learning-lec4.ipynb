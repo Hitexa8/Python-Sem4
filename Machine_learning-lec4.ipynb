{
 "cells": [
  {
   "cell_type": "code",
   "execution_count": 1,
   "metadata": {},
   "outputs": [],
   "source": [
    "import pandas as pd\n",
    "import numpy as np\n",
    "import seaborn as sns\n",
    "import matplotlib.pyplot as plt"
   ]
  },
  {
   "cell_type": "code",
   "execution_count": 13,
   "metadata": {},
   "outputs": [
    {
     "name": "stdout",
     "output_type": "stream",
     "text": [
      "r2Score: 0.460888725189738\n",
      "mean_squared_error: 151585982113.607\n",
      "mean_absolute_error: 218187.39188375196\n"
     ]
    }
   ],
   "source": [
    "from sklearn.model_selection import train_test_split\n",
    "from sklearn.preprocessing import PolynomialFeatures\n",
    "from sklearn.linear_model import LinearRegression\n",
    "from sklearn.metrics import r2_score, mean_squared_error, mean_absolute_error\n",
    "\n",
    "df = pd.read_csv('Downloads/CAR DETAILS FROM CAR DEKHO.csv')\n",
    "df['Age'] = 2024-df['year']\n",
    "x = df.drop(['selling_price','name','year'],axis=1)\n",
    "y=df['selling_price']\n",
    "\n",
    "x = pd.get_dummies(x)\n",
    "\n",
    "poly = PolynomialFeatures(degree=3)\n",
    "\n",
    "x_poly = poly.fit_transform(x)\n",
    "\n",
    "x_train,x_test,y_train,y_test = train_test_split(x,y,test_size=0.2,random_state=7)\n",
    "\n",
    "lr = LinearRegression()\n",
    "\n",
    "lr.fit(x_train,y_train)\n",
    "\n",
    "y_pred=lr.predict(x_test)\n",
    "\n",
    "print('r2Score:', r2_score(y_test, y_pred))\n",
    "print('mean_squared_error:', mean_squared_error(y_test, y_pred))\n",
    "print('mean_absolute_error:', mean_absolute_error(y_test, y_pred))"
   ]
  },
  {
   "cell_type": "code",
   "execution_count": null,
   "metadata": {},
   "outputs": [],
   "source": [
    "# actual    predicated    \n",
    "#  Y            Y          ---> TP\n",
    "#  N            Y          ---> FP\n",
    "#  Y            N          ---> FN\n",
    "#  N            N          ---> TN"
   ]
  },
  {
   "cell_type": "code",
   "execution_count": 34,
   "metadata": {},
   "outputs": [
    {
     "name": "stdout",
     "output_type": "stream",
     "text": [
      "1\n",
      "[[16  0  0]\n",
      " [ 0  5  0]\n",
      " [ 0  0  9]]\n"
     ]
    }
   ],
   "source": [
    "from sklearn.neighbors import KNeighborsClassifier\n",
    "from sklearn.metrics import confusion_matrix\n",
    "from sklearn import metrics\n",
    "\n",
    "df1 = pd.read_csv(\"Downloads/Iris.csv\")\n",
    "\n",
    "x = df1.drop('Species',axis=1)\n",
    "y=df1['Species']\n",
    "\n",
    "x_train,x_test,y_train,y_test = train_test_split(x,y,test_size=0.2,random_state=4)\n",
    "\n",
    "k_values = [3,5,7,9]\n",
    "normal_accuracy = []\n",
    "\n",
    "for i in range(0,len(k_values)) :\n",
    "    knn = KNeighborsClassifier(n_neighbors=k_values[i])\n",
    "    model = knn.fit(x_train,y_train)\n",
    "    y_pred = model.predict(x_test)\n",
    "    accur = metrics.accuracy_score(y_test,y_pred)\n",
    "    normal_accuracy.append(int(accur))\n",
    "    \n",
    "best_accur = max(normal_accuracy)\n",
    "\n",
    "k_position = normal_accuracy[best_accur]\n",
    "\n",
    "print(k_position)\n",
    "knn = KNeighborsClassifier(n_neighbors=k_position)\n",
    "model = knn.fit(x_train,y_train)\n",
    "y_pred = model.predict(x_test)\n",
    "\n",
    "cm = confusion_matrix(y_test,y_pred)\n",
    "print(cm)\n",
    "\n",
    "\n",
    "# cm = confusion_matrix(y_test,y_pred)\n",
    "# print(cm)"
   ]
  },
  {
   "cell_type": "code",
   "execution_count": null,
   "metadata": {},
   "outputs": [],
   "source": []
  }
 ],
 "metadata": {
  "kernelspec": {
   "display_name": "Python 3",
   "language": "python",
   "name": "python3"
  },
  "language_info": {
   "codemirror_mode": {
    "name": "ipython",
    "version": 3
   },
   "file_extension": ".py",
   "mimetype": "text/x-python",
   "name": "python",
   "nbconvert_exporter": "python",
   "pygments_lexer": "ipython3",
   "version": "3.8.5"
  }
 },
 "nbformat": 4,
 "nbformat_minor": 4
}
