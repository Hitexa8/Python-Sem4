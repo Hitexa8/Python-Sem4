{
 "cells": [
  {
   "cell_type": "code",
   "execution_count": null,
   "metadata": {},
   "outputs": [],
   "source": [
    "import pandas as pd\n",
    "import matplotlib.pyplot as plt\n",
    "import numpy as np"
   ]
  },
  {
   "cell_type": "code",
   "execution_count": null,
   "metadata": {},
   "outputs": [],
   "source": [
    "import folium"
   ]
  },
  {
   "cell_type": "code",
   "execution_count": null,
   "metadata": {},
   "outputs": [],
   "source": [
    "w_map = folium.Map()\n",
    "w_map"
   ]
  },
  {
   "cell_type": "code",
   "execution_count": null,
   "metadata": {},
   "outputs": [],
   "source": [
    "mapobj=folium.Map(location=[23.0225, 72.5714],zoom_start=8)\n",
    "mapobj"
   ]
  },
  {
   "cell_type": "code",
   "execution_count": null,
   "metadata": {},
   "outputs": [],
   "source": [
    "mapobj.save('output.html')"
   ]
  },
  {
   "cell_type": "code",
   "execution_count": null,
   "metadata": {},
   "outputs": [],
   "source": [
    "help(folium.Map)"
   ]
  },
  {
   "cell_type": "code",
   "execution_count": null,
   "metadata": {},
   "outputs": [],
   "source": [
    "folium.Marker(location=[23.0225, 72.5714],popup=folium.Popup('<i>The Centre<\\i>'),tooltip='Sundarlal').add_to(mapobj)\n",
    "mapobj"
   ]
  },
  {
   "cell_type": "code",
   "execution_count": null,
   "metadata": {},
   "outputs": [],
   "source": [
    "df=pd.read_csv(\"Downloads/Datasets/Police_Department_Incidents_-_Previous_Year__2016_.csv\")\n",
    "df=df.iloc[0:100,:]"
   ]
  },
  {
   "cell_type": "code",
   "execution_count": null,
   "metadata": {},
   "outputs": [],
   "source": [
    "lat=37.77\n",
    "log=-122.42\n",
    "s_map=folium.Map(location=[lat,log],zoom_start=15)\n",
    "s_map"
   ]
  },
  {
   "cell_type": "code",
   "execution_count": null,
   "metadata": {},
   "outputs": [],
   "source": [
    "incidents=folium.map.FeatureGroup()\n",
    "for i,j in zip(df.Y,df.X):\n",
    "    incidents.add_child(folium.features.CircleMarker([i,j],radius=5))\n",
    "s_map.add_child(incidents)"
   ]
  },
  {
   "cell_type": "code",
   "execution_count": null,
   "metadata": {},
   "outputs": [],
   "source": [
    "la=list(df.Y)\n",
    "lo=list(df.X)\n",
    "labels=list(df.Category)\n",
    "for i,j,l in zip(la,lo,labels):\n",
    "    folium.Marker([i,j],popup=l).add_to(s_map)\n",
    "s_map.add_child(incidents)"
   ]
  },
  {
   "cell_type": "code",
   "execution_count": null,
   "metadata": {},
   "outputs": [],
   "source": [
    "unemp=pd.read_csv(\"Downloads/Datasets/US_Unemployment_Oct2012.csv\")"
   ]
  },
  {
   "cell_type": "code",
   "execution_count": null,
   "metadata": {},
   "outputs": [],
   "source": [
    "geo='C:\\\\Users\\\\LJENG\\\\Downloads\\\\Datasets\\\\us-states.json'"
   ]
  },
  {
   "cell_type": "code",
   "execution_count": null,
   "metadata": {},
   "outputs": [],
   "source": [
    "us_state=folium.Map(location=[48,-102],zoom_start=3)"
   ]
  },
  {
   "cell_type": "code",
   "execution_count": null,
   "metadata": {},
   "outputs": [],
   "source": [
    "folium.Choropleth(geo_data=geo,name='choropleth',data=unemp,columns=['State','Unemployment'],key_on='feature.id',fill_color='YlGnBu',legend_name='Unemp.Scale').add_to(us_state)\n",
    "us_state"
   ]
  },
  {
   "cell_type": "code",
   "execution_count": null,
   "metadata": {},
   "outputs": [],
   "source": [
    "# 1)read the csv file ipl-matches.csv\n",
    "# 2)display first few rows and last few rows \n",
    "# 3)display info about dataset \n",
    "# 4)shape of dataset\n",
    "# 5)check missing value\n",
    "# 6)display statistical analysis(Basic)\n",
    "# 7)display statistical analysis(only obj type column)\n",
    "# 8)how many matches gone in superover?\n",
    "# 9)how many matches won by csk at kolkata?\n",
    "# 10)how many matches GT won the toss and elected to bat and won the match."
   ]
  },
  {
   "cell_type": "code",
   "execution_count": null,
   "metadata": {},
   "outputs": [],
   "source": [
    "df=pd.read_csv(\"Downloads/Datasets/ipl-matches.csv\")"
   ]
  },
  {
   "cell_type": "code",
   "execution_count": null,
   "metadata": {},
   "outputs": [],
   "source": [
    "first_few=df.head()\n",
    "last_few=df.tail()\n",
    "print(first_few)\n",
    "print(last_few)"
   ]
  },
  {
   "cell_type": "code",
   "execution_count": null,
   "metadata": {},
   "outputs": [],
   "source": [
    "print(df.shape)"
   ]
  },
  {
   "cell_type": "code",
   "execution_count": null,
   "metadata": {},
   "outputs": [],
   "source": [
    "print(df.isna().sum())"
   ]
  },
  {
   "cell_type": "code",
   "execution_count": null,
   "metadata": {},
   "outputs": [],
   "source": [
    "df.describe()"
   ]
  },
  {
   "cell_type": "code",
   "execution_count": null,
   "metadata": {},
   "outputs": [],
   "source": [
    "df.describe(include='object')"
   ]
  },
  {
   "cell_type": "code",
   "execution_count": null,
   "metadata": {},
   "outputs": [],
   "source": [
    "df[df['SuperOver']=='Y'].shape[0]"
   ]
  },
  {
   "cell_type": "code",
   "execution_count": null,
   "metadata": {},
   "outputs": [],
   "source": [
    "len((df[(df['WinningTeam']=='Chennai Super Kings') & (df['City']=='Kolkata')]))"
   ]
  },
  {
   "cell_type": "code",
   "execution_count": null,
   "metadata": {},
   "outputs": [],
   "source": [
    "len((df[(df['TossWinner']=='Gujarat Titans') & (df['TossDecision']=='bat') & (df['WinningTeam']=='Gujarat Titans') ]))"
   ]
  }
 ],
 "metadata": {
  "kernelspec": {
   "display_name": "Python 3",
   "language": "python",
   "name": "python3"
  },
  "language_info": {
   "codemirror_mode": {
    "name": "ipython",
    "version": 3
   },
   "file_extension": ".py",
   "mimetype": "text/x-python",
   "name": "python",
   "nbconvert_exporter": "python",
   "pygments_lexer": "ipython3",
   "version": "3.8.5"
  }
 },
 "nbformat": 4,
 "nbformat_minor": 4
}
