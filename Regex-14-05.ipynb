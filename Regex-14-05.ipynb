{
 "cells": [
  {
   "cell_type": "code",
   "execution_count": 2,
   "metadata": {},
   "outputs": [],
   "source": [
    "import re "
   ]
  },
  {
   "cell_type": "code",
   "execution_count": null,
   "metadata": {},
   "outputs": [],
   "source": [
    "# ^ it matches expression to the right of it at start of a string before each new line char \n",
    "# $ matches the string to the left at the end\n",
    "# . matches any char(only one) except new line\n",
    "# | a or b\n",
    "# + greedily match expression to its left 1 or more time\n",
    "# * greedily match expression to its left 0 or more time \n",
    "# ? greedily match expression to its left 0 or one time\n",
    "# {m} matches the expression to its left atleast m time\n",
    "# {m,n} matches the expression to its left m to n time\n",
    "\n",
    "# \\w=[a-z,A-Z,0-9,_] , /W except /w\n",
    "# \\d=[0-9] , \\D\n",
    "# \\s= space,tab,\\r,\\n\\t , \\S=except \\s\n",
    "# \\b=word boundary  , \\B\n",
    "# \\A matches to the right at the start of a string\n",
    "# \\Z matches to the right at the end of a string"
   ]
  },
  {
   "cell_type": "code",
   "execution_count": null,
   "metadata": {},
   "outputs": [],
   "source": [
    "# METHODS\n",
    "# re.findall(pattern,string,flag=o) matches all instance of a pattern in a string and return them in a list \n",
    "# re.search(pattern,string,flag=o) matches the first instance of an expression in a string and return it as a match object \n",
    "# re.split(pattern,string,maxsplit) splits a string based on pattern using optional maxsplit \n",
    "# re.sub(A,B,C,count=0, flags=0) replaces a with b in string c upto the count specify"
   ]
  },
  {
   "cell_type": "code",
   "execution_count": 24,
   "metadata": {},
   "outputs": [
    {
     "name": "stdout",
     "output_type": "stream",
     "text": [
      "[]\n",
      "['r', 'a', 'n', 'n', 'a', 'n']\n"
     ]
    }
   ],
   "source": [
    "text = \"The rain in spain\"\n",
    "\n",
    "x=re.findall('ai',text)\n",
    "\n",
    "print(x)  # ['ai', 'ai']\n",
    "\n",
    "\n",
    "x=re.findall('[ran]',text)\n",
    "\n",
    "print(x)  # ['r', 'a', 'n', 'n', 'a', 'n']"
   ]
  },
  {
   "cell_type": "code",
   "execution_count": 3,
   "metadata": {},
   "outputs": [
    {
     "name": "stdout",
     "output_type": "stream",
     "text": [
      "<re.Match object; span=(3, 4), match=' '>\n",
      "None\n"
     ]
    }
   ],
   "source": [
    "x=re.search('\\s',text)\n",
    "print(x)\n",
    "\n",
    "x=re.search('xyz',text)\n",
    "print(x)"
   ]
  },
  {
   "cell_type": "code",
   "execution_count": 4,
   "metadata": {},
   "outputs": [
    {
     "name": "stdout",
     "output_type": "stream",
     "text": [
      "['The', 'rain', 'in', 'spain']\n",
      "['The', 'rain in spain']\n",
      "['The', 'rain', 'in spain']\n"
     ]
    }
   ],
   "source": [
    "x=re.split('\\s',text)\n",
    "print(x)  # ['The', 'rain', 'in', 'spain']\n",
    "\n",
    "x=re.split('\\s',text,1)\n",
    "print(x) # ['The', 'rain in spain']\n",
    "\n",
    "x=re.split('\\s',text,2)\n",
    "print(x) # ['The', 'rain', 'in spain']"
   ]
  },
  {
   "cell_type": "code",
   "execution_count": 5,
   "metadata": {},
   "outputs": [
    {
     "name": "stdout",
     "output_type": "stream",
     "text": [
      "The@rain in spain\n"
     ]
    }
   ],
   "source": [
    "x = re.sub('\\s','@',text,1)\n",
    "print(x)"
   ]
  },
  {
   "cell_type": "code",
   "execution_count": 4,
   "metadata": {},
   "outputs": [
    {
     "name": "stdout",
     "output_type": "stream",
     "text": [
      "found\n",
      "found\n",
      "found\n",
      "not found\n",
      "found\n"
     ]
    }
   ],
   "source": [
    "#write a python program to find a sequence of start with a and ends with 0 or more b.\n",
    "def t_match(text):\n",
    "    pattern='^a.*(b*)$'\n",
    "    if re.search(pattern,text):\n",
    "        return 'found'\n",
    "    else:\n",
    "        return 'not found'\n",
    "    \n",
    "print(t_match('ac'))\n",
    "print(t_match('acb'))\n",
    "print(t_match('abbbb'))\n",
    "print(t_match('bc'))\n",
    "print(t_match('accccb'))"
   ]
  },
  {
   "cell_type": "code",
   "execution_count": 21,
   "metadata": {},
   "outputs": [
    {
     "name": "stdout",
     "output_type": "stream",
     "text": [
      "found\n",
      "not found\n",
      "found\n",
      "not found\n"
     ]
    }
   ],
   "source": [
    "# wap to find sequence of lowercase of 2 string join with underscore.\n",
    "def t_match(text):\n",
    "    pattern='^[a-z]+_[a-z]+$'\n",
    "    if re.search(pattern,text):\n",
    "        return 'found'\n",
    "    else:\n",
    "        return 'not found'\n",
    "    \n",
    "print(t_match(\"hello_bhidu\"))\n",
    "print(t_match(\"aab_Acb\"))\n",
    "print(t_match(\"aab_cbb\"))\n",
    "print(t_match(\"Abc_cb\"))"
   ]
  },
  {
   "cell_type": "code",
   "execution_count": 23,
   "metadata": {},
   "outputs": [
    {
     "name": "stdout",
     "output_type": "stream",
     "text": [
      "216.8.94.196\n"
     ]
    }
   ],
   "source": [
    "# wapp to remove leading zero of ip address.\n",
    "ip='2106.08.094.1906'\n",
    "check_ip =  re.sub('0','',ip)\n",
    "print(check_ip)"
   ]
  },
  {
   "cell_type": "code",
   "execution_count": 32,
   "metadata": {},
   "outputs": [
    {
     "name": "stdout",
     "output_type": "stream",
     "text": [
      "['', '@', '_', '@', '123', '*', '#', '789']\n",
      "0\n"
     ]
    }
   ],
   "source": [
    "text = \"The@code_is@ABC123XYZ*and#XYZ789\"\n",
    "p=r'[a-zA-Z]+'\n",
    "r=re.split(p,text)\n",
    "print(r)\n",
    "print(len(r[0]))"
   ]
  },
  {
   "cell_type": "code",
   "execution_count": 38,
   "metadata": {},
   "outputs": [
    {
     "name": "stdout",
     "output_type": "stream",
     "text": [
      "['The', 'brown', 'jumps', 'the', 'dog']\n"
     ]
    }
   ],
   "source": [
    "text = \"The quick brown fox jumps over the lazy dog\"\n",
    "p=r'\\s[a-z]+\\s'\n",
    "r=re.split(p,text)\n",
    "print(r)"
   ]
  },
  {
   "cell_type": "code",
   "execution_count": null,
   "metadata": {},
   "outputs": [],
   "source": []
  }
 ],
 "metadata": {
  "kernelspec": {
   "display_name": "Python 3",
   "language": "python",
   "name": "python3"
  },
  "language_info": {
   "codemirror_mode": {
    "name": "ipython",
    "version": 3
   },
   "file_extension": ".py",
   "mimetype": "text/x-python",
   "name": "python",
   "nbconvert_exporter": "python",
   "pygments_lexer": "ipython3",
   "version": "3.8.5"
  }
 },
 "nbformat": 4,
 "nbformat_minor": 4
}
