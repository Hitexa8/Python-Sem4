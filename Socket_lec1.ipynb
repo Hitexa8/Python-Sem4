{
 "cells": [
  {
   "cell_type": "code",
   "execution_count": 4,
   "metadata": {},
   "outputs": [
    {
     "name": "stdout",
     "output_type": "stream",
     "text": [
      "406-7-253\n",
      "192.168.107.204\n"
     ]
    }
   ],
   "source": [
    "import socket\n",
    "h=socket.gethostname()\n",
    "print(socket.gethostname())\n",
    "print(socket.gethostbyname(h))"
   ]
  },
  {
   "cell_type": "code",
   "execution_count": 7,
   "metadata": {},
   "outputs": [
    {
     "name": "stdout",
     "output_type": "stream",
     "text": [
      "local host: 127.0.0.1\n",
      "Port: 59589\n"
     ]
    }
   ],
   "source": [
    "with socket.socket(socket.AF_INET, socket.SOCK_STREAM) as s:\n",
    "    s.bind(('localhost', 0)) \n",
    "    a,port = s.getsockname()\n",
    "print(\"local host:\", a)\n",
    "print(\"Port:\", port)"
   ]
  },
  {
   "cell_type": "code",
   "execution_count": 12,
   "metadata": {},
   "outputs": [
    {
     "name": "stdout",
     "output_type": "stream",
     "text": [
      "Overwriting server_tcp.py\n"
     ]
    }
   ],
   "source": [
    "%%writefile server_tcp.py\n",
    "import socket\n",
    "host = socket.gethostname()\n",
    "port = 2000\n",
    "addr = (host,port)\n",
    "server_socket = socket.socket()\n",
    "server_socket.bind(addr)\n",
    "server_socket.listen()\n",
    "conn,addr = server_socket.accept()\n",
    "print(\"connection form\",str(addr))\n",
    "while True:\n",
    "    data=conn.recv(1024).decode()\n",
    "    if not data:\n",
    "        break\n",
    "    print(data)\n",
    "    data=input(\"->\")\n",
    "    conn.send(data.encode())\n",
    "conn.close()"
   ]
  },
  {
   "cell_type": "code",
   "execution_count": 13,
   "metadata": {},
   "outputs": [
    {
     "name": "stdout",
     "output_type": "stream",
     "text": [
      "Overwriting Client_TCP.py\n"
     ]
    }
   ],
   "source": [
    "%%writefile Client_TCP.py\n",
    "import socket\n",
    "host=socket.gethostname()\n",
    "port=2000\n",
    "client_socket=socket.socket()\n",
    "client_socket.connect((host,port))\n",
    "message=input(\"->\")\n",
    "while message!=\"\":\n",
    "    client_socket.send(message.encode())\n",
    "    data=client_socket.recv(1024).decode()\n",
    "    print(\"Received from Server -> \",data)\n",
    "    message=input('->')\n",
    "client_socket.close()"
   ]
  },
  {
   "cell_type": "code",
   "execution_count": null,
   "metadata": {},
   "outputs": [],
   "source": []
  }
 ],
 "metadata": {
  "kernelspec": {
   "display_name": "Python 3",
   "language": "python",
   "name": "python3"
  },
  "language_info": {
   "codemirror_mode": {
    "name": "ipython",
    "version": 3
   },
   "file_extension": ".py",
   "mimetype": "text/x-python",
   "name": "python",
   "nbconvert_exporter": "python",
   "pygments_lexer": "ipython3",
   "version": "3.8.5"
  }
 },
 "nbformat": 4,
 "nbformat_minor": 4
}
