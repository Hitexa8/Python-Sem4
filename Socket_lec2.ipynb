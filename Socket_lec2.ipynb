{
 "cells": [
  {
   "cell_type": "code",
   "execution_count": null,
   "metadata": {},
   "outputs": [],
   "source": [
    "%%writefile udp_server.py\n",
    "import socket\n",
    "host=\"\"\n",
    "port=5000\n",
    "udp_server=socket.socket(type=socket.SOCK_DGRAM)\n",
    "udp_server.bind((host,port))\n",
    "while True:\n",
    "    print(\"Waiting for Message \")\n",
    "    data,addr=udp_server.recvfrom(1024)\n",
    "    print(\"Received\",data.decode(),\"from\",addr)\n",
    "    msg=input(\"Enter msg:\")\n",
    "    udp_server.sendto(msg.encode(),addr)\n",
    "udp_server.close()"
   ]
  },
  {
   "cell_type": "code",
   "execution_count": null,
   "metadata": {},
   "outputs": [],
   "source": [
    "%%writefile udp_client.py\n",
    "import socket\n",
    "host= \"localhost\"\n",
    "port=5000\n",
    "udp_client=socket.socket(type=socket.SOCK_DGRAM)\n",
    "while True:\n",
    "    data=input(\"Enter data to Send:\")\n",
    "    if not data:\n",
    "        break\n",
    "    udp_client.sendto(data.encode(),(host,port))\n",
    "    print(\"Ready to Receive Data\")\n",
    "    data,addr=udp_client.recvfrom(1024)\n",
    "    if not data:\n",
    "        break\n",
    "    print(\"Received\",data.decode())\n",
    "udp_client.close()"
   ]
  },
  {
   "cell_type": "code",
   "execution_count": null,
   "metadata": {},
   "outputs": [],
   "source": [
    "import socket\n",
    "mysock = socket.socket()\n",
    "mysock.connect(('data.pr4e.org', 80))\n",
    "cmd = 'GET http://data.pr4e.org/romeo.txt HTTP/1.0\\r\\n\\r\\n'.encode()\n",
    "mysock.send(cmd)\n",
    "while True:\n",
    "    data = mysock.recv(1024)\n",
    "    if len(data) < 1:\n",
    "        break\n",
    "    print(data.decode(),end='')\n",
    "mysock.close()\n"
   ]
  },
  {
   "cell_type": "code",
   "execution_count": null,
   "metadata": {},
   "outputs": [],
   "source": [
    "from socket import *\n",
    "def createServer():\n",
    "    serversocket = socket()\n",
    "    serversocket.bind(('localhost',9000))\n",
    "    serversocket.listen()\n",
    "    while(1):\n",
    "        (clientsocket, address) = serversocket.accept()\n",
    "        rd = clientsocket.recv(5000).decode()\n",
    "        print(rd)\n",
    "        data = \"HTTP/1.1 200 OK\\r\\n\"\n",
    "        data += \"Content-Type: text/html; charset=utf-8\\r\\n\"\n",
    "        data += \"\\r\\n\"\n",
    "        data += \"<html><body>Hello World</body></html>\\r\\n\\r\\n\"\n",
    "        clientsocket.send(data.encode())\n",
    "    serversocket.close()\n",
    "print('Access http://localhost:9000')\n",
    "createServer()"
   ]
  },
  {
   "cell_type": "code",
   "execution_count": null,
   "metadata": {},
   "outputs": [],
   "source": []
  }
 ],
 "metadata": {
  "kernelspec": {
   "display_name": "Python 3",
   "language": "python",
   "name": "python3"
  },
  "language_info": {
   "codemirror_mode": {
    "name": "ipython",
    "version": 3
   },
   "file_extension": ".py",
   "mimetype": "text/x-python",
   "name": "python",
   "nbconvert_exporter": "python",
   "pygments_lexer": "ipython3",
   "version": "3.8.5"
  }
 },
 "nbformat": 4,
 "nbformat_minor": 4
}
